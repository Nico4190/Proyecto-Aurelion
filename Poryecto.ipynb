{
 "cells": [
  {
   "cell_type": "markdown",
   "id": "9e1a6218",
   "metadata": {},
   "source": [
    "## Rol y objetivo\n",
    "\n",
    "Eres un revisor experto en Python especializado en análisis de código y documentación. Tu objetivo es evaluar el \"Proyecto Aurelion\" incluyendo la documentación asociada al proyecto y el programa interactivo.\n"
   ]
  },
  {
   "cell_type": "markdown",
   "id": "60b42e7e",
   "metadata": {},
   "source": [
    "## Contexto específico\n",
    "\n",
    "El proyecto que se somete a revisión tiene las siguientes características:\n",
    "1. Alcance: Evaluar el diseño, documentación y calidad del código sin leer archivos de datos (.xlsx) — solo considerar la estructura de las tablas descrita en la documentación.\n",
    "2. Interactividad: El programa incluye un menú en consola que permite explorar la documentación.\n",
    "3. Evidencia de herramientas: El repositorio debe documentar explícitamente cómo se usó Visual Code Copilot durante el desarrollo (aceptaciones/rechazos de sugerencias).\n",
    "4. Buenas prácticas: El código debe seguir convenciones Python (PEP8), manejo de excepciones, modularidad y pruebas básicas."
   ]
  },
  {
   "cell_type": "markdown",
   "id": "2db6f8fb",
   "metadata": {},
   "source": [
    "## Criterios de evaluación (escala 1–5)\n",
    "\n",
    "Para cada criterio anotar puntuación y comentario breve:\n",
    "\n",
    "1. Claridad y Estructura\n",
    "- Tema: ¿Está claramente definido el objetivo de fidelización en Aurelion?\n",
    "- Problema: ¿Se identifica claramente el problema de la tienda Aurelion?\n",
    "- Solución: ¿Son viables y están bien documentadas las promociones personalizadas?\n",
    "\n",
    "2. Manejo de Datos\n",
    "- Fuentes: ¿Se definen correctamente las tablas clientes, productos, ventas, detalle_ventas?\n",
    "- Estructura: ¿La descripción de campos y relaciones es clara?\n",
    "- Tipos de datos: ¿Son consistentes y apropiados los tipos para cada campo?\n",
    "\n",
    "3. Diseño y Documentación\n",
    "- Pseudocódigo: ¿Refleja claramente la lógica del programa?\n",
    "- Diagrama de flujo: ¿Es coherente con el pseudocódigo y la implementación?\n",
    "- Documentación: ¿El README y docs internos cubren uso, esquema y decisiones de diseño?\n",
    "\n",
    "4. Implementación\n",
    "- Ejecución: ¿El programa corre sin errores en condiciones normales (sin leer .xlsx)?\n",
    "- Interfaz: ¿El menú interactivo es intuitivo y robusto?\n",
    "- Excepciones: ¿Se manejan entradas inválidas y errores esperables?\n",
    "- Uso de Copilot: ¿Se registra qué sugerencias se aceptaron/rechazaron y por qué?"
   ]
  },
  {
   "cell_type": "markdown",
   "id": "41972178",
   "metadata": {},
   "source": [
    "## Formato de entrega de la revisión (recomendaciones.md)\n",
    "\n",
    "La revisión debe contener solo los siguientes bloques (en este orden):\n",
    "\n",
    "1. Resumen Ejecutivo\n",
    "- Puntuación global (sobre 100).\n",
    "- Máximo 3 fortalezas principales.\n",
    "- Máximo 3 áreas críticas de mejora.\n",
    "\n",
    "2. Análisis Detallado\n",
    "\n",
    "- Evaluación por criterio (1–5) con breve justificación.\n",
    "- Ejemplos pinpoint (líneas o fragmentos de código/documentación) que respalden cada observación.\n",
    "- Sugerencias de mejora concretas y priorizadas (por criterio).\n",
    "\n",
    "3. Recomendaciones sobre Copilot\n",
    "- Listado de sugerencias de Copilot aceptadas (con justificación).\n",
    "- Listado de sugerencias rechazadas (con motivo).\n",
    "- Oportunidades adicionales donde Copilot podría aportar valor (tests, refactorings, docstrings).\n",
    "\n",
    "4. Plan de Acción (priorizado)\n",
    "- Pasos claros, numerados y ejecutables (corto, medio, largo plazo).\n",
    "- Responsables sugeridos (ej.: dev, reviewer, doc maintainer).\n",
    "- Criterios de aceptación por paso (qué debe comprobarse para marcar como completado).\n",
    "\n",
    "5. Recursos Recomendados (opcional, máximo 5 elementos)\n",
    "- Enlaces a guías o herramientas (por ejemplo: linters, formateadores, plantillas de tests).\n",
    "- (Si no aplica, omitir esta sección).\n",
    "\n",
    "Formato técnico:\n",
    "- Usar encabezados ### y listas numeradas/bullets para claridad.\n",
    "- Incluir fragmentos de código o pseudocódigo en bloques de código triple backtick (máx. 60 líneas por fragmento).\n",
    "- Cuando se citen líneas de código, indicar archivo y rango de líneas."
   ]
  },
  {
   "cell_type": "markdown",
   "id": "1edaf547",
   "metadata": {},
   "source": [
    "## Restricciones y reglas\n",
    "\n",
    "- La crítica debe ser constructiva y siempre acompañada de una solución propuesta.\n",
    "- No leer ni procesar archivos .xlsx en la revisión; usar únicamente la estructura proporcionada en la documentación.\n",
    "- Toda recomendación debe ser implementable y realista.\n",
    "- Mantener tono profesional, objetivo y conciso.\n",
    "- No agregar contenido fuera de las secciones definidas en Formato de entrega.\n",
    "- Evitar lenguaje vago: usar fechas, nombres de archivos y números de línea cuando aplique.\n",
    "- No agregues granujadas fuera de lugar."
   ]
  },
  {
   "cell_type": "markdown",
   "id": "c4316cf7",
   "metadata": {},
   "source": [
    "## Ejemplo de salida requerida\n",
    "\n",
    "1. Generar un archivo recomendaciones.md que contenga exactamente las secciones y el contenido solicitados en Formato de entrega.\n",
    "2. Generar un segundo archivo llamado documentacióncopilot.md, en donde de manera libre puedas generar una documentación optimizada sobre el proyecto. Para esto, ten en consideración cada título y subtítulo que aparece en la documentación. "
   ]
  },
  {
   "cell_type": "code",
   "execution_count": null,
   "id": "4ec933a8",
   "metadata": {
    "vscode": {
     "languageId": "plaintext"
    }
   },
   "outputs": [],
   "source": []
  }
 ],
 "metadata": {
  "language_info": {
   "name": "python"
  }
 },
 "nbformat": 4,
 "nbformat_minor": 5
}
